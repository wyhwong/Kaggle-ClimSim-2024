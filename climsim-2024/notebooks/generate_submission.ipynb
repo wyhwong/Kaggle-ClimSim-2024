{
 "cells": [
  {
   "cell_type": "code",
   "execution_count": null,
   "metadata": {},
   "outputs": [],
   "source": [
    "import pandas as pd\n",
    "\n",
    "from src.pytorch.data.kaggle import output_compressed_parquet\n",
    "from src.pytorch.data.parquet import Dataset\n",
    "from src.pytorch.models.cnn import CNN\n",
    "from src.schemas.climsim import INPUT_COLUMNS"
   ]
  },
  {
   "cell_type": "code",
   "execution_count": null,
   "metadata": {},
   "outputs": [],
   "source": [
    "TRAINSET_DATA_PATH = \"/home/data/train.parquet\"\n",
    "X_STATS_PATH = \"/home/data/x_stats.parquet\"\n",
    "Y_STATS_PATH = \"/home/data/y_stats.parquet\"\n",
    "TESTSET_DATA_PATH = \"/home/data/test.arrow\"\n",
    "TESTSET_WEIGHTS_PATH = \"/home/data/sample_submission.arrow\"\n",
    "MODEL_PATH = \"./models/last.ckpt\""
   ]
  },
  {
   "cell_type": "code",
   "execution_count": null,
   "metadata": {},
   "outputs": [],
   "source": [
    "dataset = Dataset(\n",
    "    source=TRAINSET_DATA_PATH,\n",
    "    x_stats=X_STATS_PATH,\n",
    "    y_stats=Y_STATS_PATH,\n",
    ")\n",
    "model = CNN.load_from_checkpoint(MODEL_PATH, steps_per_epoch=len(dataset))\n",
    "df_input = pd.read_feather(TESTSET_DATA_PATH)\n",
    "weights = pd.read_feather(TESTSET_WEIGHTS_PATH)\n",
    "\n",
    "df = output_compressed_parquet(\n",
    "    model=model,\n",
    "    dataset=dataset,\n",
    "    df_input=df_input,\n",
    "    input_cols=INPUT_COLUMNS,\n",
    "    weights=weights,\n",
    ")"
   ]
  }
 ],
 "metadata": {
  "kernelspec": {
   "display_name": "climsim",
   "language": "python",
   "name": "python3"
  },
  "language_info": {
   "codemirror_mode": {
    "name": "ipython",
    "version": 3
   },
   "file_extension": ".py",
   "mimetype": "text/x-python",
   "name": "python",
   "nbconvert_exporter": "python",
   "pygments_lexer": "ipython3",
   "version": "3.11.9"
  }
 },
 "nbformat": 4,
 "nbformat_minor": 2
}
