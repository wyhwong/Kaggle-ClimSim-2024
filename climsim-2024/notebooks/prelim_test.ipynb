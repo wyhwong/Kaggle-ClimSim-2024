{
 "cells": [
  {
   "cell_type": "code",
   "execution_count": null,
   "metadata": {},
   "outputs": [],
   "source": [
    "import random\n",
    "\n",
    "import polars as pl\n",
    "import pyarrow.parquet as pq\n",
    "\n",
    "import src.pytorch.data.kaggle\n",
    "import src.pytorch.models\n",
    "import src.pytorch.models.utils\n",
    "import src.visualization.performance\n",
    "\n",
    "from src.pytorch.data.parquet import Dataset\n",
    "from src.schemas.climsim import INPUT_COLUMNS, OUTPUT_COLUMNS"
   ]
  },
  {
   "cell_type": "code",
   "execution_count": null,
   "metadata": {},
   "outputs": [],
   "source": [
    "# TRAINSET_DATA_PATH = \"/home/data/subset_train.arrow\"\n",
    "TRAINSET_DATA_PATH = \"/home/data/train.parquet\""
   ]
  },
  {
   "cell_type": "code",
   "execution_count": null,
   "metadata": {},
   "outputs": [],
   "source": [
    "lf = pl.scan_parquet(TRAINSET_DATA_PATH)\n",
    "n_samples = lf.select(pl.len()).collect().item()\n",
    "\n",
    "parquet = pq.ParquetFile(TRAINSET_DATA_PATH, memory_map=True)\n",
    "all_groups = list(range(0, parquet.num_row_groups))\n",
    "train_groups = random.sample(all_groups, int(0.7 * len(all_groups)))\n",
    "val_groups = list(set(all_groups) - set(train_groups))\n",
    "\n",
    "dataset_train = Dataset(\n",
    "    parquet=parquet,\n",
    "    input_cols=INPUT_COLUMNS,\n",
    "    target_cols=OUTPUT_COLUMNS,\n",
    "    batch_size=3072,\n",
    "    n_samples=int(n_samples/len(all_groups) * len(train_groups)),\n",
    "    groups=train_groups,\n",
    ")\n",
    "dataset_val = Dataset(\n",
    "    parquet=parquet,\n",
    "    input_cols=INPUT_COLUMNS,\n",
    "    target_cols=OUTPUT_COLUMNS,\n",
    "    batch_size=3072,\n",
    "    n_samples=int(n_samples/len(all_groups) * len(val_groups)),\n",
    "    groups=val_groups,\n",
    ")"
   ]
  },
  {
   "cell_type": "code",
   "execution_count": null,
   "metadata": {},
   "outputs": [],
   "source": [
    "model = src.pytorch.models.MLP()\n",
    "\n",
    "trainloader = dataset_train.to_dataloader()\n",
    "valloader = dataset_val.to_dataloader()\n",
    "\n",
    "model, best_weights, loss = src.pytorch.models.utils.train(\n",
    "    model=model,\n",
    "    dataloaders={\"Training\": trainloader, \"Validation\": valloader},\n",
    "    num_epochs=10,\n",
    ")\n",
    "src.visualization.performance.loss_curve(loss, close=False)"
   ]
  },
  {
   "cell_type": "code",
   "execution_count": null,
   "metadata": {},
   "outputs": [],
   "source": [
    "# Save weights if needed\n",
    "MODEL_WEIGHTS_PATH = \"./model.pt\"\n",
    "\n",
    "# src.pytorch.models.utils.save_weights(\n",
    "#     model=model,\n",
    "#     model_path=MODEL_WEIGHTS_PATH,\n",
    "# )"
   ]
  },
  {
   "cell_type": "code",
   "execution_count": null,
   "metadata": {},
   "outputs": [],
   "source": [
    "# Load data to generate submission file\n",
    "\n",
    "import pandas as pd\n",
    "\n",
    "TESTSET_DATA_PATH = \"/home/data/test.arrow\"\n",
    "TESTSET_PREDICTION_WEIGHTS_PATH = \"/home/data/sample_submission.arrow\"\n",
    "\n",
    "# df_submission = pd.read_feather(TESTSET_DATA_PATH)\n",
    "# df_weights = pd.read_feather(TESTSET_PREDICTION_WEIGHTS_PATH)\n",
    "\n",
    "# Load model to generate submission file\n",
    "\n",
    "# model = src.pytorch.models.MLP()\n",
    "# src.pytorch.models.utils.load_model(model, MODEL_WEIGHTS_PATH)\n",
    "# model.to(src.env.DEVICE)"
   ]
  },
  {
   "cell_type": "code",
   "execution_count": null,
   "metadata": {},
   "outputs": [],
   "source": [
    "# If you want to submit the predictions\n",
    "\n",
    "# src.pytorch.data.kaggle.output_compressed_parquet(\n",
    "#     model=model,\n",
    "#     df=df_submission,\n",
    "#     weights=df_weights,\n",
    "# )"
   ]
  }
 ],
 "metadata": {
  "kernelspec": {
   "display_name": "climsim",
   "language": "python",
   "name": "python3"
  },
  "language_info": {
   "codemirror_mode": {
    "name": "ipython",
    "version": 3
   },
   "file_extension": ".py",
   "mimetype": "text/x-python",
   "name": "python",
   "nbconvert_exporter": "python",
   "pygments_lexer": "ipython3",
   "version": "3.11.9"
  }
 },
 "nbformat": 4,
 "nbformat_minor": 2
}
