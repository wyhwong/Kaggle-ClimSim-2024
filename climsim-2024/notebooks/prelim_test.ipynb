{
 "cells": [
  {
   "cell_type": "code",
   "execution_count": null,
   "metadata": {},
   "outputs": [],
   "source": [
    "import pandas as pd\n",
    "import torch\n",
    "from sklearn.model_selection import train_test_split\n",
    "\n",
    "import src.pytorch.core.dataset\n",
    "import src.pytorch.core.dataset.kaggle\n",
    "import src.pytorch.core.models\n",
    "import src.pytorch.core.models.utils\n",
    "import src.schemas.climsim\n",
    "import src.visualization.performance"
   ]
  },
  {
   "cell_type": "code",
   "execution_count": null,
   "metadata": {},
   "outputs": [],
   "source": [
    "TESTSET_DATA_PATH = \"/home/data/test.arrow\"\n",
    "TESTSET_PREDICTION_WEIGHTS_PATH = \"/home/data/sample_submission.arrow\"\n",
    "MODEL_WEIGHTS_PATH = \"./model.pt\""
   ]
  },
  {
   "cell_type": "code",
   "execution_count": null,
   "metadata": {},
   "outputs": [],
   "source": [
    "df = pd.read_feather(\"/home/data/subset_train.arrow\")\n",
    "X = df.loc[:, src.schemas.climsim.INPUT_COLUMNS].values\n",
    "y = df.loc[:, src.schemas.climsim.OUTPUT_COLUMNS].values\n",
    "\n",
    "X_train, X_test, y_train, y_test = train_test_split(X, y, test_size=0.2, random_state=42)"
   ]
  },
  {
   "cell_type": "code",
   "execution_count": null,
   "metadata": {},
   "outputs": [],
   "source": [
    "model = src.pytorch.core.models.MLP()\n",
    "dataset_train = src.pytorch.core.dataset.Dataset(X_train, y_train)\n",
    "trainloader = torch.utils.data.DataLoader(\n",
    "    dataset_train,\n",
    "    batch_size=3072,\n",
    "    shuffle=True,\n",
    "    num_workers=4,\n",
    "    prefetch_factor=4,\n",
    "    pin_memory=True,\n",
    ")\n",
    "dataset_test = src.pytorch.core.dataset.Dataset(X_test, y_test)\n",
    "valloader = torch.utils.data.DataLoader(\n",
    "    dataset_test,\n",
    "    batch_size=3072,\n",
    "    shuffle=True,\n",
    "    num_workers=4,\n",
    "    prefetch_factor=4,\n",
    "    pin_memory=True,\n",
    ")\n",
    "\n",
    "model, best_weights, loss = src.pytorch.core.models.utils.train(\n",
    "    model=model,\n",
    "    dataloaders={\"Training\": trainloader, \"Validation\": valloader},\n",
    "    num_epochs=10,\n",
    ")\n",
    "\n",
    "src.visualization.performance.loss_curve(loss, close=False)"
   ]
  },
  {
   "cell_type": "code",
   "execution_count": null,
   "metadata": {},
   "outputs": [],
   "source": [
    "src.pytorch.core.models.utils.save_weights(model, MODEL_WEIGHTS_PATH)"
   ]
  },
  {
   "cell_type": "code",
   "execution_count": null,
   "metadata": {},
   "outputs": [],
   "source": [
    "# Load data\n",
    "df_submission = pd.read_feather(TESTSET_DATA_PATH)\n",
    "df_weights = pd.read_feather(TESTSET_PREDICTION_WEIGHTS_PATH)\n",
    "\n",
    "# Load model\n",
    "model = src.pytorch.core.models.MLP()\n",
    "src.pytorch.core.models.utils.load_model(model, MODEL_WEIGHTS_PATH)\n",
    "model.to(src.env.DEVICE)"
   ]
  },
  {
   "cell_type": "code",
   "execution_count": null,
   "metadata": {},
   "outputs": [],
   "source": [
    "src.pytorch.core.dataset.kaggle.output_compressed_parquet(\n",
    "    model=model,\n",
    "    df=df_submission,\n",
    "    weights=df_weights,\n",
    ")"
   ]
  }
 ],
 "metadata": {
  "kernelspec": {
   "display_name": "climsim",
   "language": "python",
   "name": "python3"
  },
  "language_info": {
   "codemirror_mode": {
    "name": "ipython",
    "version": 3
   },
   "file_extension": ".py",
   "mimetype": "text/x-python",
   "name": "python",
   "nbconvert_exporter": "python",
   "pygments_lexer": "ipython3",
   "version": "3.11.9"
  }
 },
 "nbformat": 4,
 "nbformat_minor": 2
}
