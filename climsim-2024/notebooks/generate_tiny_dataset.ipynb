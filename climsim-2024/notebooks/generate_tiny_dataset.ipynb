{
 "cells": [
  {
   "cell_type": "code",
   "execution_count": null,
   "metadata": {},
   "outputs": [],
   "source": [
    "import os\n",
    "\n",
    "import matplotlib.pyplot as plt\n",
    "import pandas as pd\n",
    "import seaborn as sns\n",
    "\n",
    "from src.pytorch.dataset import BufferedParquetDataset, compute_dataset_statistics\n",
    "from src.schemas.climsim import INPUT_COLUMNS, OUTPUT_COLUMNS"
   ]
  },
  {
   "cell_type": "code",
   "execution_count": null,
   "metadata": {},
   "outputs": [],
   "source": [
    "TRAINSET_DATA_PATH = \"/home/data/train.parquet\"\n",
    "X_STATS_PATH = \"/home/data/x_stats.parquet\"\n",
    "Y_STATS_PATH = \"/home/data/y_stats.parquet\"\n",
    "\n",
    "N_SAMPLES_IN_SUBSET = 1000\n",
    "OUTPUT_FILEPATH = f\"./train_tiny_{N_SAMPLES_IN_SUBSET}.parquet\""
   ]
  },
  {
   "cell_type": "code",
   "execution_count": null,
   "metadata": {},
   "outputs": [],
   "source": [
    "# Compute and save dataset statistics if not already done\n",
    "if not (os.path.exists(X_STATS_PATH) and os.path.exists(Y_STATS_PATH)):\n",
    "    df_x_stats, df_y_stats = compute_dataset_statistics(TRAINSET_DATA_PATH, INPUT_COLUMNS, OUTPUT_COLUMNS)\n",
    "    df_x_stats.to_parquet(X_STATS_PATH)\n",
    "    df_y_stats.to_parquet(Y_STATS_PATH)"
   ]
  },
  {
   "cell_type": "code",
   "execution_count": null,
   "metadata": {},
   "outputs": [],
   "source": [
    "df = pd.read_parquet(X_STATS_PATH)\n",
    "\n",
    "sns.scatterplot(x=df.loc[\"mean\"], y=df.loc[\"std\"], marker=\".\", alpha=0.5)\n",
    "plt.xscale(\"log\")\n",
    "plt.yscale(\"log\")\n",
    "plt.xlabel(\"Mean\")\n",
    "plt.ylabel(\"Standard Deviation\")\n",
    "plt.title(\"Mean vs Standard Deviation (Log-Log Scale)\")"
   ]
  },
  {
   "cell_type": "code",
   "execution_count": null,
   "metadata": {},
   "outputs": [],
   "source": [
    "df = pd.read_parquet(Y_STATS_PATH)\n",
    "\n",
    "sns.scatterplot(x=df.loc[\"mean\"], y=df.loc[\"std\"], marker=\".\", alpha=0.5)\n",
    "plt.xscale(\"log\")\n",
    "plt.yscale(\"log\")\n",
    "plt.xlabel(\"Mean\")\n",
    "plt.ylabel(\"Standard Deviation\")\n",
    "plt.title(\"Mean vs Standard Deviation (Log-Log Scale)\")"
   ]
  },
  {
   "cell_type": "code",
   "execution_count": null,
   "metadata": {},
   "outputs": [],
   "source": [
    "dataset = BufferedParquetDataset(\n",
    "    source=TRAINSET_DATA_PATH,\n",
    "    x_stats=X_STATS_PATH,\n",
    "    y_stats=Y_STATS_PATH,\n",
    ")"
   ]
  },
  {
   "cell_type": "code",
   "execution_count": null,
   "metadata": {},
   "outputs": [],
   "source": [
    "df = dataset.generate_tiny_dataset(n_samples=N_SAMPLES_IN_SUBSET)\n",
    "df.to_parquet(OUTPUT_FILEPATH)\n",
    "\n",
    "pd.read_parquet(OUTPUT_FILEPATH)"
   ]
  }
 ],
 "metadata": {
  "kernelspec": {
   "display_name": "climsim",
   "language": "python",
   "name": "python3"
  },
  "language_info": {
   "codemirror_mode": {
    "name": "ipython",
    "version": 3
   },
   "file_extension": ".py",
   "mimetype": "text/x-python",
   "name": "python",
   "nbconvert_exporter": "python",
   "pygments_lexer": "ipython3",
   "version": "3.11.9"
  }
 },
 "nbformat": 4,
 "nbformat_minor": 2
}
