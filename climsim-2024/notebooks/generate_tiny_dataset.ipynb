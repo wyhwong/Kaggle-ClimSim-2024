{
 "cells": [
  {
   "cell_type": "code",
   "execution_count": null,
   "metadata": {},
   "outputs": [],
   "source": [
    "from src.pytorch.data.parquet import Dataset"
   ]
  },
  {
   "cell_type": "code",
   "execution_count": null,
   "metadata": {},
   "outputs": [],
   "source": [
    "TRAINSET_DATA_PATH = \"/home/data/train.parquet\"\n",
    "X_STATS_PATH = \"/home/data/x_stats.parquet\"\n",
    "Y_STATS_PATH = \"/home/data/y_stats.parquet\"\n",
    "N_SAMPLES_IN_SUBSET = 1000000"
   ]
  },
  {
   "cell_type": "code",
   "execution_count": null,
   "metadata": {},
   "outputs": [],
   "source": [
    "dataset = Dataset(\n",
    "    source=TRAINSET_DATA_PATH,\n",
    "    x_stats=X_STATS_PATH,\n",
    "    y_stats=Y_STATS_PATH,\n",
    ")"
   ]
  },
  {
   "cell_type": "code",
   "execution_count": null,
   "metadata": {},
   "outputs": [],
   "source": [
    "df = dataset.generate_tiny_dataset(n_samples=N_SAMPLES_IN_SUBSET)\n",
    "df.to_parquet(f\"./train_tiny_{N_SAMPLES_IN_SUBSET}.parquet\")"
   ]
  }
 ],
 "metadata": {
  "kernelspec": {
   "display_name": "climsim",
   "language": "python",
   "name": "python3"
  },
  "language_info": {
   "codemirror_mode": {
    "name": "ipython",
    "version": 3
   },
   "file_extension": ".py",
   "mimetype": "text/x-python",
   "name": "python",
   "nbconvert_exporter": "python",
   "pygments_lexer": "ipython3",
   "version": "3.11.9"
  }
 },
 "nbformat": 4,
 "nbformat_minor": 2
}
