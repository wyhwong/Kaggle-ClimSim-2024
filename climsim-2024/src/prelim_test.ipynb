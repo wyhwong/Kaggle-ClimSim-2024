{
 "cells": [
  {
   "cell_type": "code",
   "execution_count": null,
   "metadata": {},
   "outputs": [],
   "source": [
    "import pandas as pd\n",
    "import torch\n",
    "from sklearn.model_selection import train_test_split\n",
    "\n",
    "import pytorch.core.models\n",
    "import pytorch.core.models.utils\n",
    "import schemas.climsim\n",
    "import visualization.performance"
   ]
  },
  {
   "cell_type": "code",
   "execution_count": null,
   "metadata": {},
   "outputs": [],
   "source": [
    "df = pd.read_feather(\"/home/data/subset_train.arrow\")\n",
    "X = df.loc[:, schemas.climsim.INPUT_COLUMNS].values\n",
    "y = df.loc[:, schemas.climsim.OUTPUT_COLUMNS].values\n",
    "\n",
    "X_train, X_test, y_train, y_test = train_test_split(X, y, test_size=0.2, random_state=42)\n",
    "\n",
    "class Dataset:\n",
    "    def __init__(self, X, y):\n",
    "        self.X = X\n",
    "        self.y = y\n",
    "\n",
    "    def __len__(self):\n",
    "        return len(self.X)\n",
    "\n",
    "    def __getitem__(self, idx):\n",
    "        return self.X[idx], self.y[idx]"
   ]
  },
  {
   "cell_type": "code",
   "execution_count": null,
   "metadata": {},
   "outputs": [],
   "source": [
    "model = pytorch.core.models.MLP()\n",
    "dataset_train = Dataset(X_train, y_train)\n",
    "trainloader = torch.utils.data.DataLoader(\n",
    "    dataset_train,\n",
    "    batch_size=3072,\n",
    "    shuffle=True,\n",
    "    num_workers=4,\n",
    "    prefetch_factor=4,\n",
    "    pin_memory=True,\n",
    ")\n",
    "dataset_test = Dataset(X_test, y_test)\n",
    "valloader = torch.utils.data.DataLoader(\n",
    "    dataset_test,\n",
    "    batch_size=3072,\n",
    "    shuffle=True,\n",
    "    num_workers=4,\n",
    "    prefetch_factor=4,\n",
    "    pin_memory=True,\n",
    ")\n",
    "\n",
    "model, best_weights, loss = pytorch.core.models.utils.train(\n",
    "    model=model,\n",
    "    dataloaders={\"Training\": trainloader, \"Validation\": valloader},\n",
    "    num_epochs=10,\n",
    ")\n",
    "\n",
    "visualization.performance.loss_curve(loss, close=False)"
   ]
  }
 ],
 "metadata": {
  "kernelspec": {
   "display_name": "climsim",
   "language": "python",
   "name": "python3"
  },
  "language_info": {
   "codemirror_mode": {
    "name": "ipython",
    "version": 3
   },
   "file_extension": ".py",
   "mimetype": "text/x-python",
   "name": "python",
   "nbconvert_exporter": "python",
   "pygments_lexer": "ipython3",
   "version": "3.11.9"
  }
 },
 "nbformat": 4,
 "nbformat_minor": 2
}
