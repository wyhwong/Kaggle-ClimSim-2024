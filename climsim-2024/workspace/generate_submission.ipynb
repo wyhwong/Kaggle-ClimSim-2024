{
 "cells": [
  {
   "cell_type": "code",
   "execution_count": null,
   "metadata": {},
   "outputs": [],
   "source": [
    "import pandas as pd\n",
    "\n",
    "from src.pytorch.dataset import MemoryParquetDataset\n",
    "from src.kaggle.submission import output_submission_parquet\n",
    "from src.pytorch.models import MLP"
   ]
  },
  {
   "cell_type": "code",
   "execution_count": null,
   "metadata": {},
   "outputs": [],
   "source": [
    "TRAINSET_DATA_PATH = \"/home/data/train_tiny_1000000.parquet\"\n",
    "X_STATS_PATH = \"/home/data/x_stats.parquet\"\n",
    "Y_STATS_PATH = \"/home/data/y_stats.parquet\"\n",
    "TESTSET_DATA_PATH = \"/home/data/test.arrow\"\n",
    "TESTSET_WEIGHTS_PATH = \"/home/data/sample_submission.arrow\"\n",
    "MODEL_PATH = \"./models/climsim_tiny_model/20240711T164158Z/climsim_tiny_model-best-epoch=47.ckpt\"\n",
    "BATCH_SIZE = 16384"
   ]
  },
  {
   "cell_type": "code",
   "execution_count": null,
   "metadata": {},
   "outputs": [],
   "source": [
    "model = MLP.load_from_checkpoint(MODEL_PATH)\n",
    "dataset = MemoryParquetDataset(\n",
    "    source=TRAINSET_DATA_PATH,\n",
    "    x_stats=X_STATS_PATH,\n",
    "    y_stats=Y_STATS_PATH,\n",
    ")\n",
    "df = pd.read_feather(TESTSET_DATA_PATH)\n",
    "weights = pd.read_feather(TESTSET_WEIGHTS_PATH)\n",
    "\n",
    "df = output_submission_parquet(\n",
    "    model=model,\n",
    "    dataset=dataset,\n",
    "    df=df,\n",
    "    weights=weights,\n",
    ")"
   ]
  }
 ],
 "metadata": {
  "kernelspec": {
   "display_name": "climsim",
   "language": "python",
   "name": "python3"
  },
  "language_info": {
   "codemirror_mode": {
    "name": "ipython",
    "version": 3
   },
   "file_extension": ".py",
   "mimetype": "text/x-python",
   "name": "python",
   "nbconvert_exporter": "python",
   "pygments_lexer": "ipython3",
   "version": "3.11.9"
  }
 },
 "nbformat": 4,
 "nbformat_minor": 2
}
